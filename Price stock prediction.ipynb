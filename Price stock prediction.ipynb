{
 "cells": [
  {
   "cell_type": "code",
   "execution_count": 1,
   "id": "dc83e186",
   "metadata": {
    "execution": {
     "iopub.execute_input": "2022-07-18T02:43:53.892845Z",
     "iopub.status.busy": "2022-07-18T02:43:53.892193Z",
     "iopub.status.idle": "2022-07-18T02:43:53.900085Z",
     "shell.execute_reply": "2022-07-18T02:43:53.898781Z"
    },
    "papermill": {
     "duration": 0.020636,
     "end_time": "2022-07-18T02:43:53.904438",
     "exception": false,
     "start_time": "2022-07-18T02:43:53.883802",
     "status": "completed"
    },
    "tags": []
   },
   "outputs": [],
   "source": [
    "#..\\Ahmed project\\GANN DATASET\\Opt_6B"
   ]
  },
  {
   "cell_type": "code",
   "execution_count": 2,
   "id": "497580f9",
   "metadata": {
    "execution": {
     "iopub.execute_input": "2022-07-18T02:43:53.917170Z",
     "iopub.status.busy": "2022-07-18T02:43:53.916867Z",
     "iopub.status.idle": "2022-07-18T02:44:00.724058Z",
     "shell.execute_reply": "2022-07-18T02:44:00.722760Z"
    },
    "papermill": {
     "duration": 6.817118,
     "end_time": "2022-07-18T02:44:00.727132",
     "exception": false,
     "start_time": "2022-07-18T02:43:53.910014",
     "status": "completed"
    },
    "tags": []
   },
   "outputs": [],
   "source": [
    "import numpy as np \n",
    "import matplotlib.pyplot as plt\n",
    "import pandas as pd\n",
    "import datetime as dt \n",
    "\n",
    "from sklearn.preprocessing import MinMaxScaler\n",
    "from  tensorflow.keras.models import Sequential\n",
    "from tensorflow.keras.layers import Dense, Dropout ,LSTM"
   ]
  },
  {
   "cell_type": "code",
   "execution_count": 3,
   "id": "852c3742",
   "metadata": {
    "execution": {
     "iopub.execute_input": "2022-07-18T02:44:00.740558Z",
     "iopub.status.busy": "2022-07-18T02:44:00.739819Z",
     "iopub.status.idle": "2022-07-18T02:44:00.830192Z",
     "shell.execute_reply": "2022-07-18T02:44:00.828773Z"
    },
    "papermill": {
     "duration": 0.100297,
     "end_time": "2022-07-18T02:44:00.833473",
     "exception": false,
     "start_time": "2022-07-18T02:44:00.733176",
     "status": "completed"
    },
    "tags": []
   },
   "outputs": [],
   "source": [
    "data=pd.read_csv(\"../input/opt-6b-stock/Opt_6B.csv\")"
   ]
  },
  {
   "cell_type": "code",
   "execution_count": 4,
   "id": "517e9df0",
   "metadata": {
    "execution": {
     "iopub.execute_input": "2022-07-18T02:44:00.846177Z",
     "iopub.status.busy": "2022-07-18T02:44:00.845844Z",
     "iopub.status.idle": "2022-07-18T02:44:00.896255Z",
     "shell.execute_reply": "2022-07-18T02:44:00.894972Z"
    },
    "papermill": {
     "duration": 0.060202,
     "end_time": "2022-07-18T02:44:00.899375",
     "exception": false,
     "start_time": "2022-07-18T02:44:00.839173",
     "status": "completed"
    },
    "scrolled": true,
    "tags": []
   },
   "outputs": [
    {
     "data": {
      "text/html": [
       "<div>\n",
       "<style scoped>\n",
       "    .dataframe tbody tr th:only-of-type {\n",
       "        vertical-align: middle;\n",
       "    }\n",
       "\n",
       "    .dataframe tbody tr th {\n",
       "        vertical-align: top;\n",
       "    }\n",
       "\n",
       "    .dataframe thead th {\n",
       "        text-align: right;\n",
       "    }\n",
       "</style>\n",
       "<table border=\"1\" class=\"dataframe\">\n",
       "  <thead>\n",
       "    <tr style=\"text-align: right;\">\n",
       "      <th></th>\n",
       "      <th>Profit</th>\n",
       "      <th>Entry Name</th>\n",
       "      <th>H1</th>\n",
       "      <th>L1</th>\n",
       "      <th>O1</th>\n",
       "      <th>C1</th>\n",
       "      <th>V1</th>\n",
       "      <th>HiLo1</th>\n",
       "      <th>H2</th>\n",
       "      <th>L2</th>\n",
       "      <th>...</th>\n",
       "      <th>I22</th>\n",
       "      <th>I23</th>\n",
       "      <th>I24</th>\n",
       "      <th>I25</th>\n",
       "      <th>I26</th>\n",
       "      <th>I27</th>\n",
       "      <th>I28</th>\n",
       "      <th>I29</th>\n",
       "      <th>I30</th>\n",
       "      <th>I31</th>\n",
       "    </tr>\n",
       "  </thead>\n",
       "  <tbody>\n",
       "    <tr>\n",
       "      <th>0</th>\n",
       "      <td>0</td>\n",
       "      <td>R1 Sell</td>\n",
       "      <td>1.5924</td>\n",
       "      <td>1.5922</td>\n",
       "      <td>1.5924</td>\n",
       "      <td>1.5924</td>\n",
       "      <td>70</td>\n",
       "      <td>1.592250</td>\n",
       "      <td>1.5928</td>\n",
       "      <td>1.5924</td>\n",
       "      <td>...</td>\n",
       "      <td>0</td>\n",
       "      <td>52.018616</td>\n",
       "      <td>-36.363636</td>\n",
       "      <td>1.089286</td>\n",
       "      <td>1</td>\n",
       "      <td>9.940381</td>\n",
       "      <td>0.602561</td>\n",
       "      <td>0</td>\n",
       "      <td>9.146679</td>\n",
       "      <td>Friday</td>\n",
       "    </tr>\n",
       "    <tr>\n",
       "      <th>1</th>\n",
       "      <td>0</td>\n",
       "      <td>R1 Buy</td>\n",
       "      <td>1.5939</td>\n",
       "      <td>1.5923</td>\n",
       "      <td>1.5938</td>\n",
       "      <td>1.5931</td>\n",
       "      <td>1447</td>\n",
       "      <td>1.593950</td>\n",
       "      <td>1.5940</td>\n",
       "      <td>1.5923</td>\n",
       "      <td>...</td>\n",
       "      <td>0</td>\n",
       "      <td>36.124563</td>\n",
       "      <td>-88.405797</td>\n",
       "      <td>0.950000</td>\n",
       "      <td>1</td>\n",
       "      <td>-18.540868</td>\n",
       "      <td>0.017070</td>\n",
       "      <td>0</td>\n",
       "      <td>31.143836</td>\n",
       "      <td>Friday</td>\n",
       "    </tr>\n",
       "    <tr>\n",
       "      <th>2</th>\n",
       "      <td>0</td>\n",
       "      <td>R1 Sell</td>\n",
       "      <td>1.5887</td>\n",
       "      <td>1.5879</td>\n",
       "      <td>1.5883</td>\n",
       "      <td>1.5886</td>\n",
       "      <td>75</td>\n",
       "      <td>1.587925</td>\n",
       "      <td>1.5888</td>\n",
       "      <td>1.5880</td>\n",
       "      <td>...</td>\n",
       "      <td>1</td>\n",
       "      <td>60.676506</td>\n",
       "      <td>-72.972973</td>\n",
       "      <td>1.083969</td>\n",
       "      <td>0</td>\n",
       "      <td>0.802873</td>\n",
       "      <td>0.309199</td>\n",
       "      <td>1</td>\n",
       "      <td>14.563587</td>\n",
       "      <td>Monday</td>\n",
       "    </tr>\n",
       "    <tr>\n",
       "      <th>3</th>\n",
       "      <td>0</td>\n",
       "      <td>R1 Sell</td>\n",
       "      <td>1.5901</td>\n",
       "      <td>1.5887</td>\n",
       "      <td>1.5895</td>\n",
       "      <td>1.5891</td>\n",
       "      <td>865</td>\n",
       "      <td>1.588975</td>\n",
       "      <td>1.5906</td>\n",
       "      <td>1.5894</td>\n",
       "      <td>...</td>\n",
       "      <td>1</td>\n",
       "      <td>54.949556</td>\n",
       "      <td>-65.517241</td>\n",
       "      <td>0.993103</td>\n",
       "      <td>0</td>\n",
       "      <td>-1.106353</td>\n",
       "      <td>0.129379</td>\n",
       "      <td>1</td>\n",
       "      <td>19.139527</td>\n",
       "      <td>Monday</td>\n",
       "    </tr>\n",
       "    <tr>\n",
       "      <th>4</th>\n",
       "      <td>0</td>\n",
       "      <td>R1 Buy</td>\n",
       "      <td>1.5899</td>\n",
       "      <td>1.5888</td>\n",
       "      <td>1.5897</td>\n",
       "      <td>1.5891</td>\n",
       "      <td>341</td>\n",
       "      <td>1.590200</td>\n",
       "      <td>1.5899</td>\n",
       "      <td>1.5889</td>\n",
       "      <td>...</td>\n",
       "      <td>0</td>\n",
       "      <td>50.414254</td>\n",
       "      <td>-78.260870</td>\n",
       "      <td>1.012422</td>\n",
       "      <td>1</td>\n",
       "      <td>-7.843250</td>\n",
       "      <td>0.025864</td>\n",
       "      <td>0</td>\n",
       "      <td>16.329333</td>\n",
       "      <td>Monday</td>\n",
       "    </tr>\n",
       "    <tr>\n",
       "      <th>...</th>\n",
       "      <td>...</td>\n",
       "      <td>...</td>\n",
       "      <td>...</td>\n",
       "      <td>...</td>\n",
       "      <td>...</td>\n",
       "      <td>...</td>\n",
       "      <td>...</td>\n",
       "      <td>...</td>\n",
       "      <td>...</td>\n",
       "      <td>...</td>\n",
       "      <td>...</td>\n",
       "      <td>...</td>\n",
       "      <td>...</td>\n",
       "      <td>...</td>\n",
       "      <td>...</td>\n",
       "      <td>...</td>\n",
       "      <td>...</td>\n",
       "      <td>...</td>\n",
       "      <td>...</td>\n",
       "      <td>...</td>\n",
       "      <td>...</td>\n",
       "    </tr>\n",
       "    <tr>\n",
       "      <th>5273</th>\n",
       "      <td>1</td>\n",
       "      <td>R1 Sell</td>\n",
       "      <td>1.2505</td>\n",
       "      <td>1.2471</td>\n",
       "      <td>1.2486</td>\n",
       "      <td>1.2472</td>\n",
       "      <td>916</td>\n",
       "      <td>1.247050</td>\n",
       "      <td>1.2499</td>\n",
       "      <td>1.2480</td>\n",
       "      <td>...</td>\n",
       "      <td>0</td>\n",
       "      <td>58.905807</td>\n",
       "      <td>-49.253731</td>\n",
       "      <td>1.022727</td>\n",
       "      <td>1</td>\n",
       "      <td>7.167600</td>\n",
       "      <td>0.637330</td>\n",
       "      <td>0</td>\n",
       "      <td>19.477545</td>\n",
       "      <td>Monday</td>\n",
       "    </tr>\n",
       "    <tr>\n",
       "      <th>5274</th>\n",
       "      <td>0</td>\n",
       "      <td>R1 Sell</td>\n",
       "      <td>1.2493</td>\n",
       "      <td>1.2472</td>\n",
       "      <td>1.2488</td>\n",
       "      <td>1.2482</td>\n",
       "      <td>1368</td>\n",
       "      <td>1.246925</td>\n",
       "      <td>1.2498</td>\n",
       "      <td>1.2478</td>\n",
       "      <td>...</td>\n",
       "      <td>0</td>\n",
       "      <td>46.799983</td>\n",
       "      <td>-54.285714</td>\n",
       "      <td>0.928934</td>\n",
       "      <td>1</td>\n",
       "      <td>8.798321</td>\n",
       "      <td>0.620714</td>\n",
       "      <td>0</td>\n",
       "      <td>21.288598</td>\n",
       "      <td>Monday</td>\n",
       "    </tr>\n",
       "    <tr>\n",
       "      <th>5275</th>\n",
       "      <td>0</td>\n",
       "      <td>R1 Sell</td>\n",
       "      <td>1.2469</td>\n",
       "      <td>1.2451</td>\n",
       "      <td>1.2458</td>\n",
       "      <td>1.2454</td>\n",
       "      <td>232</td>\n",
       "      <td>1.244200</td>\n",
       "      <td>1.2461</td>\n",
       "      <td>1.2448</td>\n",
       "      <td>...</td>\n",
       "      <td>1</td>\n",
       "      <td>65.696362</td>\n",
       "      <td>-62.195122</td>\n",
       "      <td>0.908805</td>\n",
       "      <td>1</td>\n",
       "      <td>-8.793473</td>\n",
       "      <td>0.408765</td>\n",
       "      <td>1</td>\n",
       "      <td>19.946562</td>\n",
       "      <td>Tuesday</td>\n",
       "    </tr>\n",
       "    <tr>\n",
       "      <th>5276</th>\n",
       "      <td>0</td>\n",
       "      <td>R1 Sell</td>\n",
       "      <td>1.2425</td>\n",
       "      <td>1.2414</td>\n",
       "      <td>1.2422</td>\n",
       "      <td>1.2420</td>\n",
       "      <td>96</td>\n",
       "      <td>1.241175</td>\n",
       "      <td>1.2420</td>\n",
       "      <td>1.2407</td>\n",
       "      <td>...</td>\n",
       "      <td>0</td>\n",
       "      <td>56.405265</td>\n",
       "      <td>-26.785714</td>\n",
       "      <td>1.424107</td>\n",
       "      <td>1</td>\n",
       "      <td>-3.079960</td>\n",
       "      <td>1.000000</td>\n",
       "      <td>0</td>\n",
       "      <td>31.587894</td>\n",
       "      <td>Tuesday</td>\n",
       "    </tr>\n",
       "    <tr>\n",
       "      <th>5277</th>\n",
       "      <td>0</td>\n",
       "      <td>R1 Sell</td>\n",
       "      <td>1.2439</td>\n",
       "      <td>1.2410</td>\n",
       "      <td>1.2438</td>\n",
       "      <td>1.2416</td>\n",
       "      <td>637</td>\n",
       "      <td>1.240875</td>\n",
       "      <td>1.2441</td>\n",
       "      <td>1.2415</td>\n",
       "      <td>...</td>\n",
       "      <td>0</td>\n",
       "      <td>53.970316</td>\n",
       "      <td>-65.789474</td>\n",
       "      <td>1.009479</td>\n",
       "      <td>0</td>\n",
       "      <td>5.426406</td>\n",
       "      <td>0.428697</td>\n",
       "      <td>0</td>\n",
       "      <td>34.288642</td>\n",
       "      <td>Tuesday</td>\n",
       "    </tr>\n",
       "  </tbody>\n",
       "</table>\n",
       "<p>5278 rows × 51 columns</p>\n",
       "</div>"
      ],
      "text/plain": [
       "      Profit Entry Name      H1      L1      O1      C1    V1     HiLo1  \\\n",
       "0          0    R1 Sell  1.5924  1.5922  1.5924  1.5924    70  1.592250   \n",
       "1          0     R1 Buy  1.5939  1.5923  1.5938  1.5931  1447  1.593950   \n",
       "2          0    R1 Sell  1.5887  1.5879  1.5883  1.5886    75  1.587925   \n",
       "3          0    R1 Sell  1.5901  1.5887  1.5895  1.5891   865  1.588975   \n",
       "4          0     R1 Buy  1.5899  1.5888  1.5897  1.5891   341  1.590200   \n",
       "...      ...        ...     ...     ...     ...     ...   ...       ...   \n",
       "5273       1    R1 Sell  1.2505  1.2471  1.2486  1.2472   916  1.247050   \n",
       "5274       0    R1 Sell  1.2493  1.2472  1.2488  1.2482  1368  1.246925   \n",
       "5275       0    R1 Sell  1.2469  1.2451  1.2458  1.2454   232  1.244200   \n",
       "5276       0    R1 Sell  1.2425  1.2414  1.2422  1.2420    96  1.241175   \n",
       "5277       0    R1 Sell  1.2439  1.2410  1.2438  1.2416   637  1.240875   \n",
       "\n",
       "          H2      L2  ...  I22        I23        I24       I25  I26  \\\n",
       "0     1.5928  1.5924  ...    0  52.018616 -36.363636  1.089286    1   \n",
       "1     1.5940  1.5923  ...    0  36.124563 -88.405797  0.950000    1   \n",
       "2     1.5888  1.5880  ...    1  60.676506 -72.972973  1.083969    0   \n",
       "3     1.5906  1.5894  ...    1  54.949556 -65.517241  0.993103    0   \n",
       "4     1.5899  1.5889  ...    0  50.414254 -78.260870  1.012422    1   \n",
       "...      ...     ...  ...  ...        ...        ...       ...  ...   \n",
       "5273  1.2499  1.2480  ...    0  58.905807 -49.253731  1.022727    1   \n",
       "5274  1.2498  1.2478  ...    0  46.799983 -54.285714  0.928934    1   \n",
       "5275  1.2461  1.2448  ...    1  65.696362 -62.195122  0.908805    1   \n",
       "5276  1.2420  1.2407  ...    0  56.405265 -26.785714  1.424107    1   \n",
       "5277  1.2441  1.2415  ...    0  53.970316 -65.789474  1.009479    0   \n",
       "\n",
       "            I27       I28  I29        I30      I31  \n",
       "0      9.940381  0.602561    0   9.146679   Friday  \n",
       "1    -18.540868  0.017070    0  31.143836   Friday  \n",
       "2      0.802873  0.309199    1  14.563587   Monday  \n",
       "3     -1.106353  0.129379    1  19.139527   Monday  \n",
       "4     -7.843250  0.025864    0  16.329333   Monday  \n",
       "...         ...       ...  ...        ...      ...  \n",
       "5273   7.167600  0.637330    0  19.477545   Monday  \n",
       "5274   8.798321  0.620714    0  21.288598   Monday  \n",
       "5275  -8.793473  0.408765    1  19.946562  Tuesday  \n",
       "5276  -3.079960  1.000000    0  31.587894  Tuesday  \n",
       "5277   5.426406  0.428697    0  34.288642  Tuesday  \n",
       "\n",
       "[5278 rows x 51 columns]"
      ]
     },
     "execution_count": 4,
     "metadata": {},
     "output_type": "execute_result"
    }
   ],
   "source": [
    "data"
   ]
  },
  {
   "cell_type": "code",
   "execution_count": 5,
   "id": "6b43ce6d",
   "metadata": {
    "execution": {
     "iopub.execute_input": "2022-07-18T02:44:00.915120Z",
     "iopub.status.busy": "2022-07-18T02:44:00.913112Z",
     "iopub.status.idle": "2022-07-18T02:44:00.923861Z",
     "shell.execute_reply": "2022-07-18T02:44:00.922466Z"
    },
    "papermill": {
     "duration": 0.020864,
     "end_time": "2022-07-18T02:44:00.926695",
     "exception": false,
     "start_time": "2022-07-18T02:44:00.905831",
     "status": "completed"
    },
    "tags": []
   },
   "outputs": [],
   "source": [
    "scaler=MinMaxScaler(feature_range=(0, 1))\n",
    "scaled_data=scaler.fit_transform(data[\"C1\"].values.reshape(-1,1))"
   ]
  },
  {
   "cell_type": "code",
   "execution_count": 6,
   "id": "28ba39f3",
   "metadata": {
    "execution": {
     "iopub.execute_input": "2022-07-18T02:44:00.940408Z",
     "iopub.status.busy": "2022-07-18T02:44:00.940097Z",
     "iopub.status.idle": "2022-07-18T02:44:00.946892Z",
     "shell.execute_reply": "2022-07-18T02:44:00.945584Z"
    },
    "papermill": {
     "duration": 0.016694,
     "end_time": "2022-07-18T02:44:00.949472",
     "exception": false,
     "start_time": "2022-07-18T02:44:00.932778",
     "status": "completed"
    },
    "tags": []
   },
   "outputs": [
    {
     "data": {
      "text/plain": [
       "(5278, 1)"
      ]
     },
     "execution_count": 6,
     "metadata": {},
     "output_type": "execute_result"
    }
   ],
   "source": [
    "scaled_data.shape"
   ]
  },
  {
   "cell_type": "code",
   "execution_count": 7,
   "id": "ee2dda97",
   "metadata": {
    "execution": {
     "iopub.execute_input": "2022-07-18T02:44:00.964393Z",
     "iopub.status.busy": "2022-07-18T02:44:00.963318Z",
     "iopub.status.idle": "2022-07-18T02:44:00.969238Z",
     "shell.execute_reply": "2022-07-18T02:44:00.967956Z"
    },
    "papermill": {
     "duration": 0.015923,
     "end_time": "2022-07-18T02:44:00.971735",
     "exception": false,
     "start_time": "2022-07-18T02:44:00.955812",
     "status": "completed"
    },
    "tags": []
   },
   "outputs": [],
   "source": [
    "prediction_days=45"
   ]
  },
  {
   "cell_type": "code",
   "execution_count": 8,
   "id": "b3ee5f0a",
   "metadata": {
    "execution": {
     "iopub.execute_input": "2022-07-18T02:44:00.986565Z",
     "iopub.status.busy": "2022-07-18T02:44:00.985464Z",
     "iopub.status.idle": "2022-07-18T02:44:00.991450Z",
     "shell.execute_reply": "2022-07-18T02:44:00.990015Z"
    },
    "papermill": {
     "duration": 0.016155,
     "end_time": "2022-07-18T02:44:00.994270",
     "exception": false,
     "start_time": "2022-07-18T02:44:00.978115",
     "status": "completed"
    },
    "tags": []
   },
   "outputs": [],
   "source": [
    "x_train=[]\n",
    "y_train=[]"
   ]
  },
  {
   "cell_type": "code",
   "execution_count": 9,
   "id": "73980282",
   "metadata": {
    "execution": {
     "iopub.execute_input": "2022-07-18T02:44:01.008074Z",
     "iopub.status.busy": "2022-07-18T02:44:01.007778Z",
     "iopub.status.idle": "2022-07-18T02:44:01.018765Z",
     "shell.execute_reply": "2022-07-18T02:44:01.017456Z"
    },
    "papermill": {
     "duration": 0.020834,
     "end_time": "2022-07-18T02:44:01.021421",
     "exception": false,
     "start_time": "2022-07-18T02:44:01.000587",
     "status": "completed"
    },
    "tags": []
   },
   "outputs": [],
   "source": [
    "for x in range(prediction_days,len(scaled_data)-720):\n",
    "    x_train.append(scaled_data[x-prediction_days:x,0])\n",
    "    y_train.append(scaled_data[x,0])"
   ]
  },
  {
   "cell_type": "code",
   "execution_count": 10,
   "id": "dc1ecd9d",
   "metadata": {
    "execution": {
     "iopub.execute_input": "2022-07-18T02:44:01.036794Z",
     "iopub.status.busy": "2022-07-18T02:44:01.034850Z",
     "iopub.status.idle": "2022-07-18T02:44:01.045492Z",
     "shell.execute_reply": "2022-07-18T02:44:01.044319Z"
    },
    "papermill": {
     "duration": 0.020887,
     "end_time": "2022-07-18T02:44:01.048390",
     "exception": false,
     "start_time": "2022-07-18T02:44:01.027503",
     "status": "completed"
    },
    "tags": []
   },
   "outputs": [],
   "source": [
    "x_train,y_train=np.array(x_train),np.array(y_train)\n",
    "x_train=np.reshape(x_train ,(x_train.shape[0], x_train.shape[1], 1))"
   ]
  },
  {
   "cell_type": "code",
   "execution_count": 11,
   "id": "dff1a9ed",
   "metadata": {
    "execution": {
     "iopub.execute_input": "2022-07-18T02:44:01.063882Z",
     "iopub.status.busy": "2022-07-18T02:44:01.062042Z",
     "iopub.status.idle": "2022-07-18T02:44:51.546056Z",
     "shell.execute_reply": "2022-07-18T02:44:51.544825Z"
    },
    "papermill": {
     "duration": 50.493879,
     "end_time": "2022-07-18T02:44:51.548543",
     "exception": false,
     "start_time": "2022-07-18T02:44:01.054664",
     "status": "completed"
    },
    "tags": []
   },
   "outputs": [
    {
     "name": "stderr",
     "output_type": "stream",
     "text": [
      "2022-07-18 02:44:01.157115: I tensorflow/stream_executor/cuda/cuda_gpu_executor.cc:937] successful NUMA node read from SysFS had negative value (-1), but there must be at least one NUMA node, so returning NUMA node zero\n",
      "2022-07-18 02:44:01.322946: I tensorflow/stream_executor/cuda/cuda_gpu_executor.cc:937] successful NUMA node read from SysFS had negative value (-1), but there must be at least one NUMA node, so returning NUMA node zero\n",
      "2022-07-18 02:44:01.324192: I tensorflow/stream_executor/cuda/cuda_gpu_executor.cc:937] successful NUMA node read from SysFS had negative value (-1), but there must be at least one NUMA node, so returning NUMA node zero\n",
      "2022-07-18 02:44:01.327067: I tensorflow/core/platform/cpu_feature_guard.cc:142] This TensorFlow binary is optimized with oneAPI Deep Neural Network Library (oneDNN) to use the following CPU instructions in performance-critical operations:  AVX2 FMA\n",
      "To enable them in other operations, rebuild TensorFlow with the appropriate compiler flags.\n",
      "2022-07-18 02:44:01.332789: I tensorflow/stream_executor/cuda/cuda_gpu_executor.cc:937] successful NUMA node read from SysFS had negative value (-1), but there must be at least one NUMA node, so returning NUMA node zero\n",
      "2022-07-18 02:44:01.334042: I tensorflow/stream_executor/cuda/cuda_gpu_executor.cc:937] successful NUMA node read from SysFS had negative value (-1), but there must be at least one NUMA node, so returning NUMA node zero\n",
      "2022-07-18 02:44:01.335076: I tensorflow/stream_executor/cuda/cuda_gpu_executor.cc:937] successful NUMA node read from SysFS had negative value (-1), but there must be at least one NUMA node, so returning NUMA node zero\n",
      "2022-07-18 02:44:03.888315: I tensorflow/stream_executor/cuda/cuda_gpu_executor.cc:937] successful NUMA node read from SysFS had negative value (-1), but there must be at least one NUMA node, so returning NUMA node zero\n",
      "2022-07-18 02:44:03.889400: I tensorflow/stream_executor/cuda/cuda_gpu_executor.cc:937] successful NUMA node read from SysFS had negative value (-1), but there must be at least one NUMA node, so returning NUMA node zero\n",
      "2022-07-18 02:44:03.890381: I tensorflow/stream_executor/cuda/cuda_gpu_executor.cc:937] successful NUMA node read from SysFS had negative value (-1), but there must be at least one NUMA node, so returning NUMA node zero\n",
      "2022-07-18 02:44:03.891280: I tensorflow/core/common_runtime/gpu/gpu_device.cc:1510] Created device /job:localhost/replica:0/task:0/device:GPU:0 with 15403 MB memory:  -> device: 0, name: Tesla P100-PCIE-16GB, pci bus id: 0000:00:04.0, compute capability: 6.0\n",
      "2022-07-18 02:44:05.248114: I tensorflow/compiler/mlir/mlir_graph_optimization_pass.cc:185] None of the MLIR Optimization Passes are enabled (registered 2)\n"
     ]
    },
    {
     "name": "stdout",
     "output_type": "stream",
     "text": [
      "Epoch 1/25\n"
     ]
    },
    {
     "name": "stderr",
     "output_type": "stream",
     "text": [
      "2022-07-18 02:44:10.878319: I tensorflow/stream_executor/cuda/cuda_dnn.cc:369] Loaded cuDNN version 8005\n"
     ]
    },
    {
     "name": "stdout",
     "output_type": "stream",
     "text": [
      "142/142 [==============================] - 9s 10ms/step - loss: 0.0179\n",
      "Epoch 2/25\n",
      "142/142 [==============================] - 1s 11ms/step - loss: 0.0036\n",
      "Epoch 3/25\n",
      "142/142 [==============================] - 2s 12ms/step - loss: 0.0036\n",
      "Epoch 4/25\n",
      "142/142 [==============================] - 1s 10ms/step - loss: 0.0034\n",
      "Epoch 5/25\n",
      "142/142 [==============================] - 1s 10ms/step - loss: 0.0030\n",
      "Epoch 6/25\n",
      "142/142 [==============================] - 1s 10ms/step - loss: 0.0027\n",
      "Epoch 7/25\n",
      "142/142 [==============================] - 1s 10ms/step - loss: 0.0026\n",
      "Epoch 8/25\n",
      "142/142 [==============================] - 1s 10ms/step - loss: 0.0027\n",
      "Epoch 9/25\n",
      "142/142 [==============================] - 2s 14ms/step - loss: 0.0026\n",
      "Epoch 10/25\n",
      "142/142 [==============================] - 2s 13ms/step - loss: 0.0023\n",
      "Epoch 11/25\n",
      "142/142 [==============================] - 1s 10ms/step - loss: 0.0024\n",
      "Epoch 12/25\n",
      "142/142 [==============================] - 2s 11ms/step - loss: 0.0020\n",
      "Epoch 13/25\n",
      "142/142 [==============================] - 2s 11ms/step - loss: 0.0020\n",
      "Epoch 14/25\n",
      "142/142 [==============================] - 1s 10ms/step - loss: 0.0019\n",
      "Epoch 15/25\n",
      "142/142 [==============================] - 1s 10ms/step - loss: 0.0019\n",
      "Epoch 16/25\n",
      "142/142 [==============================] - 1s 11ms/step - loss: 0.0016\n",
      "Epoch 17/25\n",
      "142/142 [==============================] - 2s 12ms/step - loss: 0.0017\n",
      "Epoch 18/25\n",
      "142/142 [==============================] - 2s 11ms/step - loss: 0.0015\n",
      "Epoch 19/25\n",
      "142/142 [==============================] - 2s 11ms/step - loss: 0.0016\n",
      "Epoch 20/25\n",
      "142/142 [==============================] - 1s 10ms/step - loss: 0.0014\n",
      "Epoch 21/25\n",
      "142/142 [==============================] - 2s 11ms/step - loss: 0.0014\n",
      "Epoch 22/25\n",
      "142/142 [==============================] - 1s 10ms/step - loss: 0.0013\n",
      "Epoch 23/25\n",
      "142/142 [==============================] - 2s 11ms/step - loss: 0.0013\n",
      "Epoch 24/25\n",
      "142/142 [==============================] - 2s 12ms/step - loss: 0.0012\n",
      "Epoch 25/25\n",
      "142/142 [==============================] - 1s 11ms/step - loss: 0.0011\n"
     ]
    },
    {
     "data": {
      "text/plain": [
       "<keras.callbacks.History at 0x7fe0b951a5d0>"
      ]
     },
     "execution_count": 11,
     "metadata": {},
     "output_type": "execute_result"
    }
   ],
   "source": [
    "model=Sequential()\n",
    "\n",
    "model.add(LSTM(units=50,return_sequences=True,input_shape=(x_train.shape[1],1)))\n",
    "model.add(Dropout(0.2))\n",
    "model.add(LSTM(units=50,return_sequences=True))\n",
    "model.add(Dropout(0.2))\n",
    "model.add(LSTM(units=50))\n",
    "model.add(Dropout(0.2))\n",
    "model.add(Dense(units=1))\n",
    "\n",
    "model.compile(optimizer='adam',loss='mean_squared_error')\n",
    "model.fit(x_train,y_train,epochs=25,batch_size=32)\n"
   ]
  },
  {
   "cell_type": "code",
   "execution_count": 12,
   "id": "d23a712a",
   "metadata": {
    "execution": {
     "iopub.execute_input": "2022-07-18T02:44:51.669630Z",
     "iopub.status.busy": "2022-07-18T02:44:51.668820Z",
     "iopub.status.idle": "2022-07-18T02:44:51.677429Z",
     "shell.execute_reply": "2022-07-18T02:44:51.676229Z"
    },
    "papermill": {
     "duration": 0.071719,
     "end_time": "2022-07-18T02:44:51.680091",
     "exception": false,
     "start_time": "2022-07-18T02:44:51.608372",
     "status": "completed"
    },
    "tags": []
   },
   "outputs": [],
   "source": [
    "x_test=[]\n",
    "for x in range(len(scaled_data)-720,len(scaled_data)-45):\n",
    "    x_test.append(scaled_data[x-prediction_days:x,0])\n",
    "x_test=np.array(x_test)"
   ]
  },
  {
   "cell_type": "code",
   "execution_count": 13,
   "id": "766df78b",
   "metadata": {
    "execution": {
     "iopub.execute_input": "2022-07-18T02:44:51.801175Z",
     "iopub.status.busy": "2022-07-18T02:44:51.799126Z",
     "iopub.status.idle": "2022-07-18T02:44:51.805754Z",
     "shell.execute_reply": "2022-07-18T02:44:51.804514Z"
    },
    "papermill": {
     "duration": 0.068832,
     "end_time": "2022-07-18T02:44:51.808351",
     "exception": false,
     "start_time": "2022-07-18T02:44:51.739519",
     "status": "completed"
    },
    "tags": []
   },
   "outputs": [],
   "source": [
    "actual_prices=scaled_data[len(scaled_data)-720+45:,0]"
   ]
  },
  {
   "cell_type": "code",
   "execution_count": 14,
   "id": "e85cd26b",
   "metadata": {
    "execution": {
     "iopub.execute_input": "2022-07-18T02:44:51.926848Z",
     "iopub.status.busy": "2022-07-18T02:44:51.926461Z",
     "iopub.status.idle": "2022-07-18T02:44:51.934471Z",
     "shell.execute_reply": "2022-07-18T02:44:51.933183Z"
    },
    "papermill": {
     "duration": 0.070744,
     "end_time": "2022-07-18T02:44:51.937408",
     "exception": false,
     "start_time": "2022-07-18T02:44:51.866664",
     "status": "completed"
    },
    "tags": []
   },
   "outputs": [
    {
     "data": {
      "text/plain": [
       "(675,)"
      ]
     },
     "execution_count": 14,
     "metadata": {},
     "output_type": "execute_result"
    }
   ],
   "source": [
    "actual_prices.shape"
   ]
  },
  {
   "cell_type": "code",
   "execution_count": 15,
   "id": "a4ee1a39",
   "metadata": {
    "execution": {
     "iopub.execute_input": "2022-07-18T02:44:52.078344Z",
     "iopub.status.busy": "2022-07-18T02:44:52.076029Z",
     "iopub.status.idle": "2022-07-18T02:44:52.087269Z",
     "shell.execute_reply": "2022-07-18T02:44:52.085777Z"
    },
    "papermill": {
     "duration": 0.09404,
     "end_time": "2022-07-18T02:44:52.090158",
     "exception": false,
     "start_time": "2022-07-18T02:44:51.996118",
     "status": "completed"
    },
    "tags": []
   },
   "outputs": [
    {
     "data": {
      "text/plain": [
       "(675, 45)"
      ]
     },
     "execution_count": 15,
     "metadata": {},
     "output_type": "execute_result"
    }
   ],
   "source": [
    "x_test.shape"
   ]
  },
  {
   "cell_type": "code",
   "execution_count": 16,
   "id": "1f76b656",
   "metadata": {
    "execution": {
     "iopub.execute_input": "2022-07-18T02:44:52.213910Z",
     "iopub.status.busy": "2022-07-18T02:44:52.213555Z",
     "iopub.status.idle": "2022-07-18T02:44:52.220051Z",
     "shell.execute_reply": "2022-07-18T02:44:52.218237Z"
    },
    "papermill": {
     "duration": 0.071567,
     "end_time": "2022-07-18T02:44:52.223390",
     "exception": false,
     "start_time": "2022-07-18T02:44:52.151823",
     "status": "completed"
    },
    "tags": []
   },
   "outputs": [],
   "source": [
    "x_test=np.reshape(x_test ,(x_test.shape[0], x_test.shape[1], 1))"
   ]
  },
  {
   "cell_type": "code",
   "execution_count": 17,
   "id": "a8e6a5fc",
   "metadata": {
    "execution": {
     "iopub.execute_input": "2022-07-18T02:44:52.347231Z",
     "iopub.status.busy": "2022-07-18T02:44:52.346876Z",
     "iopub.status.idle": "2022-07-18T02:44:53.469839Z",
     "shell.execute_reply": "2022-07-18T02:44:53.468556Z"
    },
    "papermill": {
     "duration": 1.189022,
     "end_time": "2022-07-18T02:44:53.472579",
     "exception": false,
     "start_time": "2022-07-18T02:44:52.283557",
     "status": "completed"
    },
    "tags": []
   },
   "outputs": [],
   "source": [
    "predicted_prices=model.predict(x_test)\n",
    "#predicted_prices=scaler.inverse_transform(predicted_prices)"
   ]
  },
  {
   "cell_type": "code",
   "execution_count": 18,
   "id": "8d777ffc",
   "metadata": {
    "execution": {
     "iopub.execute_input": "2022-07-18T02:44:53.594232Z",
     "iopub.status.busy": "2022-07-18T02:44:53.593923Z",
     "iopub.status.idle": "2022-07-18T02:44:53.866042Z",
     "shell.execute_reply": "2022-07-18T02:44:53.864862Z"
    },
    "papermill": {
     "duration": 0.335829,
     "end_time": "2022-07-18T02:44:53.869053",
     "exception": false,
     "start_time": "2022-07-18T02:44:53.533224",
     "status": "completed"
    },
    "tags": []
   },
   "outputs": [
    {
     "data": {
      "image/png": "[encoded data removed]",
      "text/plain": [
       "<Figure size 432x288 with 1 Axes>"
      ]
     },
     "metadata": {
      "needs_background": "light"
     },
     "output_type": "display_data"
    }
   ],
   "source": [
    "plt.plot(actual_prices,color=\"red\",label=\"actual\")\n",
    "plt.plot(predicted_prices,color=\"green\",label=\"predicted\")\n",
    "plt.legend()\n",
    "plt.show()"
   ]
  },
  {
   "cell_type": "code",
   "execution_count": null,
   "id": "df6877de",
   "metadata": {
    "papermill": {
     "duration": 0.058502,
     "end_time": "2022-07-18T02:44:53.986785",
     "exception": false,
     "start_time": "2022-07-18T02:44:53.928283",
     "status": "completed"
    },
    "tags": []
   },
   "outputs": [],
   "source": []
  }
 ],
 "metadata": {
  "kernelspec": {
   "display_name": "Python 3",
   "language": "python",
   "name": "python3"
  },
  "language_info": {
   "codemirror_mode": {
    "name": "ipython",
    "version": 3
   },
   "file_extension": ".py",
   "mimetype": "text/x-python",
   "name": "python",
   "nbconvert_exporter": "python",
   "pygments_lexer": "ipython3",
   "version": "3.7.12"
  },
  "papermill": {
   "default_parameters": {},
   "duration": 73.603118,
   "end_time": "2022-07-18T02:44:57.534597",
   "environment_variables": {},
   "exception": null,
   "input_path": "__notebook__.ipynb",
   "output_path": "__notebook__.ipynb",
   "parameters": {},
   "start_time": "2022-07-18T02:43:43.931479",
   "version": "2.3.4"
  }
 },
 "nbformat": 4,
 "nbformat_minor": 5
}
